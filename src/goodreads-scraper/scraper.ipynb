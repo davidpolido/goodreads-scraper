{
 "metadata": {
  "language_info": {
   "codemirror_mode": {
    "name": "ipython",
    "version": 3
   },
   "file_extension": ".py",
   "mimetype": "text/x-python",
   "name": "python",
   "nbconvert_exporter": "python",
   "pygments_lexer": "ipython3",
   "version": "3.8.5"
  },
  "orig_nbformat": 2,
  "kernelspec": {
   "name": "python3",
   "display_name": "Python 3.8.5 64-bit",
   "metadata": {
    "interpreter": {
     "hash": "fdc3637f4ed32a9039be5b62ac9222f91d4c831d60a8cbfc8e013290d2cae389"
    }
   }
  }
 },
 "nbformat": 4,
 "nbformat_minor": 2,
 "cells": [
  {
   "cell_type": "code",
   "execution_count": null,
   "metadata": {},
   "outputs": [],
   "source": [
    "# imports\n",
    "from datetime import datetime\n",
    "import re\n",
    "\n",
    "from bs4 import BeautifulSoup\n",
    "from dotenv import load_dotenv\n",
    "import pandas as pd\n",
    "import requests"
   ]
  },
  {
   "cell_type": "code",
   "execution_count": null,
   "metadata": {},
   "outputs": [],
   "source": [
    "# read .env file\n",
    "load_dotenv()\n",
    "\n",
    "GOODREADS_EMAIL = os.getenv('GOODREADS_EMAIL')\n",
    "GOODREADS_PASSWORD = os.getenv('GOODREADS_PASSWORD')"
   ]
  },
  {
   "cell_type": "code",
   "execution_count": null,
   "metadata": {},
   "outputs": [],
   "source": [
    "# define key urls\n",
    "LOGIN_URL = \"https://www.goodreads.com/user/sign_in\"\n",
    "REVIEW_URL = \"https://www.goodreads.com/review/show/{}\"\n",
    "REVIEW_LIST_URL = (\n",
    "    \"https://www.goodreads.com/review/list/{}?view=reviews&shelf=read&page={}\"\n",
    ")"
   ]
  },
  {
   "cell_type": "code",
   "execution_count": null,
   "metadata": {},
   "outputs": [],
   "source": [
    "# login helpers\n",
    "def get_authenticity_token(html):\n",
    "    soup = BeautifulSoup(html, \"html.parser\")\n",
    "    token = soup.find(\"input\", attrs={\"name\": \"authenticity_token\"})\n",
    "    if not token:\n",
    "        print(\"could not find `authenticity_token` on login form\")\n",
    "    return token.get(\"value\").strip()\n",
    "\n",
    "\n",
    "def get_login_n(html):\n",
    "    # there is a hidden input named `n` that also needs to be passed\n",
    "    soup = BeautifulSoup(html, \"html.parser\")\n",
    "    n = soup.find(\"input\", attrs={\"name\": \"n\"})\n",
    "    if not n:\n",
    "        print(\"could not find `n` on login form\")\n",
    "    return n.get(\"value\").strip()"
   ]
  },
  {
   "cell_type": "code",
   "execution_count": null,
   "metadata": {},
   "outputs": [],
   "source": [
    "# login to goodreads\n",
    "payload = {\n",
    "        \"user[email]\": GOODREADS_EMAIL,\n",
    "        \"user[password]\": GOODREADS_PASSWORD,\n",
    "        \"utf8\": \"&#x2713;\",\n",
    "    }\n",
    "\n",
    "session = requests.Session()\n",
    "session.headers = {\n",
    "    \"User-Agent\": \"Mozilla/5.0 (Macintosh; Intel Mac OS X 10_15_7) AppleWebKit/537.36 (KHTML, like Gecko) Chrome/85.0.4183.121 Safari/537.36\"\n",
    "}\n",
    "response = session.get(LOGIN_URL)\n",
    "\n",
    "token = get_authenticity_token(response.text)\n",
    "n = get_login_n(response.text)\n",
    "payload.update({\"authenticity_token\": token, \"n\": n})\n",
    "\n",
    "print(f\"Attempting to log in as {payload['user[email]']}\")\n",
    "p = session.post(LOGIN_URL, data=payload)\n",
    "if p.ok:\n",
    "    print(f\"Logged in as {payload['user[email]']}\")"
   ]
  },
  {
   "cell_type": "code",
   "execution_count": null,
   "metadata": {},
   "outputs": [],
   "source": [
    "# book page parsing functions\n",
    "def parse_timeline_event(event_raw):\n",
    "    event_string = re.sub(r\"[\\r\\n]+\", \"|\", event_raw)\n",
    "    event_string = re.sub(r\"[|–|]+\", \"|\", event_string)\n",
    "    event_string = re.sub(r\"[():]\", \"\", event_string)\n",
    "\n",
    "    date, status, _ = event_string.split(\"|\")[0].strip(), event_string.split(\"|\")[1].strip(), event_string.split(\"|\")[2:]\n",
    "\n",
    "    if status == \"Add a date\":\n",
    "        status = date\n",
    "        date = None\n",
    "        shelf = None\n",
    "        try:\n",
    "            edition = _[0]\n",
    "        except IndexError:\n",
    "            edition = None\n",
    "    elif status == \"Shelved as\":\n",
    "        shelf = _[0]\n",
    "        try: \n",
    "            edition = _[1]\n",
    "        except IndexError:\n",
    "            edition = None\n",
    "    else:\n",
    "        shelf = None\n",
    "        try:\n",
    "            edition = _[0]\n",
    "        except IndexError:\n",
    "            edition = None\n",
    "\n",
    "    return {\"date\": date, \"status\": status, \"edition\": edition, \"shelf\": shelf}\n",
    "\n",
    "def parse_book(book_id, html):\n",
    "    soup = BeautifulSoup(html, \"html.parser\")\n",
    "    title = soup.find(\"h1\", id=\"bookTitle\").get_text().replace(\"\\n\", \"\").strip()\n",
    "    edition = soup.find(\"span\", attrs={\"itemprop\": \"bookFormat\"}).get_text().strip()\n",
    "    timeline_html = soup.find_all(\"div\", class_=\"readingTimeline__text\")\n",
    "\n",
    "    book = []\n",
    "    for div in timeline_html[::-1]:\n",
    "        if div.get_text():\n",
    "            event = parse_timeline_event(div.get_text().strip())\n",
    "            event[\"title\"] = title\n",
    "            \n",
    "            event[\"book_id\"] = book_id\n",
    "            if not event[\"edition\"]:\n",
    "                event[\"edition\"] = edition\n",
    "\n",
    "            book.append(event)\n",
    "    print(f\"Parsed '{title}' (id: {book_id})\")\n",
    "    return book"
   ]
  },
  {
   "cell_type": "code",
   "execution_count": null,
   "metadata": {},
   "outputs": [],
   "source": [
    "# parsing of books - example ids\n",
    "book_ids = [257149, 6251565]\n",
    "books = []\n",
    "\n",
    "for id in book_ids:\n",
    "    response = session.get(f\"https://www.goodreads.com/book/show/{id}\")\n",
    "    books += parse_book(id, response.text)\n",
    "\n",
    "pd.DataFrame(books)"
   ]
  }
 ]
}