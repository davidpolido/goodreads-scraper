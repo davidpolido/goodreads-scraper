{
 "metadata": {
  "language_info": {
   "codemirror_mode": {
    "name": "ipython",
    "version": 3
   },
   "file_extension": ".py",
   "mimetype": "text/x-python",
   "name": "python",
   "nbconvert_exporter": "python",
   "pygments_lexer": "ipython3",
   "version": "3.8.5"
  },
  "orig_nbformat": 2,
  "kernelspec": {
   "name": "python3",
   "display_name": "Python 3.8.5 64-bit",
   "metadata": {
    "interpreter": {
     "hash": "fdc3637f4ed32a9039be5b62ac9222f91d4c831d60a8cbfc8e013290d2cae389"
    }
   }
  }
 },
 "nbformat": 4,
 "nbformat_minor": 2,
 "cells": [
  {
   "cell_type": "code",
   "execution_count": null,
   "metadata": {},
   "outputs": [],
   "source": [
    "# imports\n",
    "from dotenv import load_dotenv\n",
    "import pandas as pd\n",
    "from goodreads_scraper import login, parse_book"
   ]
  },
  {
   "cell_type": "code",
   "execution_count": null,
   "metadata": {},
   "outputs": [],
   "source": [
    "# read .env file\n",
    "load_dotenv()\n",
    "\n",
    "GOODREADS_EMAIL = os.getenv('GOODREADS_EMAIL')\n",
    "GOODREADS_PASSWORD = os.getenv('GOODREADS_PASSWORD')"
   ]
  },
  {
   "cell_type": "code",
   "execution_count": null,
   "metadata": {},
   "outputs": [],
   "source": [
    "# quick example\n",
    "session = login(GOODREADS_EMAIL, GOODREADS_PASSWORD)\n",
    "\n",
    "book_ids = [257149, 6251565]\n",
    "books = []\n",
    "\n",
    "for id in book_ids:\n",
    "    books += parse_book(session, id)\n",
    "\n",
    "pd.DataFrame(books)"
   ]
  }
 ]
}