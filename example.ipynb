{
 "metadata": {
  "language_info": {
   "codemirror_mode": {
    "name": "ipython",
    "version": 3
   },
   "file_extension": ".py",
   "mimetype": "text/x-python",
   "name": "python",
   "nbconvert_exporter": "python",
   "pygments_lexer": "ipython3",
   "version": "3.8.5"
  },
  "orig_nbformat": 2,
  "kernelspec": {
   "name": "python385jvsc74a57bd056d17278f9b50778ef3ade75b3521ea487383c947d9a8a567073c298d9a55161",
   "display_name": "Python 3.8.5 64-bit ('goodreads-scraper-K_ILkwXJ-py3.8': poetry)"
  }
 },
 "nbformat": 4,
 "nbformat_minor": 2,
 "cells": [
  {
   "cell_type": "code",
   "execution_count": null,
   "metadata": {},
   "outputs": [],
   "source": [
    "# imports\n",
    "from dotenv import load_dotenv\n",
    "import pandas as pd\n",
    "from goodreads_scraper import login, scrape_book, scrape_books, scrape_shelf"
   ]
  },
  {
   "cell_type": "code",
   "execution_count": null,
   "metadata": {},
   "outputs": [],
   "source": [
    "# read .env file\n",
    "load_dotenv()\n",
    "\n",
    "GOODREADS_EMAIL = os.getenv('GOODREADS_EMAIL')\n",
    "GOODREADS_PASSWORD = os.getenv('GOODREADS_PASSWORD')"
   ]
  },
  {
   "cell_type": "code",
   "execution_count": null,
   "metadata": {},
   "outputs": [],
   "source": [
    "shelf = \"https://www.goodreads.com/review/list/6897050?shelf=read\"\n",
    "book_ids = scrape_shelf(shelf, 35)"
   ]
  },
  {
   "cell_type": "code",
   "execution_count": null,
   "metadata": {},
   "outputs": [],
   "source": [
    "session = login(GOODREADS_EMAIL, GOODREADS_PASSWORD)"
   ]
  },
  {
   "cell_type": "code",
   "execution_count": null,
   "metadata": {},
   "outputs": [],
   "source": [
    "books = scrape_books(session, book_ids)"
   ]
  },
  {
   "cell_type": "code",
   "execution_count": null,
   "metadata": {},
   "outputs": [],
   "source": [
    "df = pd.DataFrame(books)\n",
    "df[\"event_date\"] = df[\"event_date\"].astype(\"datetime64\")"
   ]
  },
  {
   "cell_type": "code",
   "execution_count": null,
   "metadata": {},
   "outputs": [],
   "source": [
    "df.to_csv(\"./data/books_read.csv\")"
   ]
  },
  {
   "cell_type": "code",
   "execution_count": null,
   "metadata": {},
   "outputs": [],
   "source": [
    "df.groupby(\"language\").agg({\"book_id\": \"nunique\"})"
   ]
  },
  {
   "cell_type": "code",
   "execution_count": null,
   "metadata": {},
   "outputs": [],
   "source": [
    "gb = df.groupby([\"title\"]).agg({\"book_id\": \"nunique\"})\n",
    "repeated = gb.loc[gb[\"book_id\"] > 1].index.to_list()\n",
    "\n",
    "df.loc[(df[\"title\"].isin(repeated[0:1])) & (df[\"status\"] == \"Shelved as\")].sort_values(by=[\"book_id\", \"date\"])"
   ]
  },
  {
   "cell_type": "code",
   "execution_count": null,
   "metadata": {},
   "outputs": [],
   "source": [
    "from bs4 import BeautifulSoup\n",
    "response = session.get(\"https://www.goodreads.com/book/show/36111562\")\n",
    "soup = BeautifulSoup(response.text, \"html.parser\")\n",
    "soup.find(\"div\", attrs={\"itemprop\": \"inLanguage\"}).get_text().strip()\n"
   ]
  },
  {
   "cell_type": "code",
   "execution_count": null,
   "metadata": {},
   "outputs": [],
   "source": [
    "import requests\n",
    "from bs4 import BeautifulSoup\n",
    "\n",
    "BeautifulSoup(requests.get(\"https://www.goodreads.com/review/list/6897050?shelf=read\").text,  \"html.parser\")"
   ]
  }
 ]
}